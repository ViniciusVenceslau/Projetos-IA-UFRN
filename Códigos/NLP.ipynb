{
  "nbformat": 4,
  "nbformat_minor": 0,
  "metadata": {
    "colab": {
      "provenance": []
    },
    "kernelspec": {
      "name": "python3",
      "display_name": "Python 3"
    },
    "language_info": {
      "name": "python"
    }
  },
  "cells": [
    {
      "cell_type": "markdown",
      "source": [
        "<p align=\"center\">\n",
        "  <img src=\"https://logodownload.org/wp-content/uploads/2018/04/ufrn-logo.png\" width=\"200\" />\n",
        "</p>"
      ],
      "metadata": {
        "id": "w8V4ojKSXr3B"
      }
    },
    {
      "cell_type": "markdown",
      "source": [
        "### <center> **Introdução à Processamento de Linguagem Natural (NLP) - Detecção de Fake News.** </center>"
      ],
      "metadata": {
        "id": "EpO4cqKHMdPf"
      }
    },
    {
      "cell_type": "markdown",
      "source": [
        "**Discentes:** DIEGO MAIA MARQUES e VINÍCIUS VENCESLAU VENANCIO DA PENHA\n",
        "\n",
        "**Docente:** JOSÉ ALFREDO FERREIRA COSTA\n",
        "\n",
        "**Disciplina:** **ELE0606** - Tópicos Especiais em Inteligência Artificial"
      ],
      "metadata": {
        "id": "hGAspQvDMpR9"
      }
    },
    {
      "cell_type": "markdown",
      "source": [
        "##**Referências:**\n",
        "\n",
        "[1] **O que é NLP (Processamento de Linguagem Natural), seus usos e como utilizar**. Disponível em: https://rockcontent.com/br/blog/o-que-e-nlp/. Acesso em: 14 de dezembro de 2023.\n",
        "\n",
        "\n",
        "[2] SHU, K. **KaiDMML/FakeNewsNet**. Disponível em: <https://github.com/KaiDMML/FakeNewsNet>. Acesso em: 19 de dezembro de 2023.\n",
        "\n",
        "\n",
        "[3] **Introdução ao NLTK na prática**. Disponível em: <https://www.youtube.com/watch?v=siVUal-TeMc>. Acesso em: 19 de dezembro de 2023.\n",
        "\n",
        "\n",
        "[4] OPENAI. **ChatGPT**. 2023. Disponível em: https://openai.com/. Acesso em: 19 de dezembro de 2023.\n",
        "\n",
        "---"
      ],
      "metadata": {
        "id": "azZZy9GTJNOb"
      }
    },
    {
      "cell_type": "markdown",
      "source": [
        "####**Requisitos da atividade:**\n",
        "\n",
        "1.   Utilizar corpus com textos de notícias rotuladas (falsas e verdadeiras)\n",
        "2.   Comparar resultado com regressão logística e MLP na classificação"
      ],
      "metadata": {
        "id": "2Y3JmfgmIDSk"
      }
    },
    {
      "cell_type": "markdown",
      "source": [
        "➡️ Tendo em vista que nenhuma das bases de dados fornecidas pelo docente possui uma distinção explícita entre notícias verdadeiras e falsas, foi necessário buscar uma base de dados que detém estes requisitos."
      ],
      "metadata": {
        "id": "TGR8kkdSxgiB"
      }
    },
    {
      "cell_type": "markdown",
      "source": [
        "Nesse viés, foi utilizado a base de dados proveniente da **FakeNewsNet**, onde:\n",
        "\n",
        "*  **politifact_fake.csv** - Amostras relacionadas a notícias falsas coletadas pelo PolitiFact\n",
        "*   **politifact_real.csv** - Amostras relacionadas a notícias reais coletadas pelo PolitiFact\n",
        "\n"
      ],
      "metadata": {
        "id": "PucnabuB9uVe"
      }
    },
    {
      "cell_type": "markdown",
      "source": [
        "Cada um dos arquivos CSV mencionados é um arquivo separado por vírgulas e possui as seguintes colunas:\n",
        "\n",
        "* **id** - Identificador único para cada notícia\n",
        "* **url** - URL do artigo da web que publicou essa notícia\n",
        "* **title** - Título do artigo de notícia\n",
        "* **tweet_ids** - IDs de tweets que compartilham a notícia. Este campo é uma lista de IDs de tweets separados por tabulação.\n",
        "* **label** - Rotulação da notícia em **verdadeira** ou **falsa** (**0** ou **1**)"
      ],
      "metadata": {
        "id": "fqFMtz4G-kJS"
      }
    },
    {
      "cell_type": "markdown",
      "source": [
        "### **1. Preparação do Ambiente e Dados:**"
      ],
      "metadata": {
        "id": "tiHC6PweamHn"
      }
    },
    {
      "cell_type": "code",
      "source": [
        "import pandas as pd\n",
        "\n",
        "# Carregar os dados\n",
        "fake_news = pd.read_csv('politifact_fake.csv')\n",
        "real_news = pd.read_csv('politifact_real.csv')\n",
        "\n",
        "# Adicionar rótulos aos dados\n",
        "fake_news['label'] = 1  # Notícias falsas têm rótulo 1\n",
        "real_news['label'] = 0  # Notícias verdadeiras têm rótulo 0\n",
        "\n",
        "# Combinar os dados em um único DataFrame\n",
        "data = pd.concat([fake_news, real_news], ignore_index=True)\n",
        "\n",
        "# Embaralhar os dados\n",
        "data = data.sample(frac=1).reset_index(drop=True)\n",
        "\n",
        "# Visualizar as primeiras linhas dos dados\n",
        "data.head()"
      ],
      "metadata": {
        "colab": {
          "base_uri": "https://localhost:8080/",
          "height": 293
        },
        "id": "OSD8Gmo85rEY",
        "outputId": "8a43181b-6d2d-46d3-c49b-552354172491"
      },
      "execution_count": 1,
      "outputs": [
        {
          "output_type": "execute_result",
          "data": {
            "text/plain": [
              "                id                                           news_url  \\\n",
              "0  politifact12751  https://www.census.gov/foreign-trade/statistic...   \n",
              "1  politifact14305  http://politicot.com/paul-ryan-22-million-amer...   \n",
              "2  politifact14306  https://web.archive.org/web/20170806200608/htt...   \n",
              "3   politifact4372  http://www.pbs.org/wnet/need-to-know/economy/t...   \n",
              "4  politifact15224  https://www.viraltruthwire.com/obama-secretly-...   \n",
              "\n",
              "                                               title  \\\n",
              "0                                  US Trade in Goods   \n",
              "1  Paul Ryan: “22 Million Americans Choose To Be ...   \n",
              "2                           Obama Goes To G20 Summit   \n",
              "3                   This Labor Day, we need protests   \n",
              "4  Obama Secretly Flees US – Leaves Stunning Evid...   \n",
              "\n",
              "                                           tweet_ids  label  \n",
              "0  998217739683680256\\t998220389787553792\\t998234...      0  \n",
              "1                                                NaN      1  \n",
              "2  1436642283\\t1436642464\\t1436643954\\t1437071990...      1  \n",
              "3                                                NaN      0  \n",
              "4  977934019273699328\\t978722696711335942\\t979262...      1  "
            ],
            "text/html": [
              "\n",
              "  <div id=\"df-5c351f30-89b8-4edf-b495-c733bb9f0b34\" class=\"colab-df-container\">\n",
              "    <div>\n",
              "<style scoped>\n",
              "    .dataframe tbody tr th:only-of-type {\n",
              "        vertical-align: middle;\n",
              "    }\n",
              "\n",
              "    .dataframe tbody tr th {\n",
              "        vertical-align: top;\n",
              "    }\n",
              "\n",
              "    .dataframe thead th {\n",
              "        text-align: right;\n",
              "    }\n",
              "</style>\n",
              "<table border=\"1\" class=\"dataframe\">\n",
              "  <thead>\n",
              "    <tr style=\"text-align: right;\">\n",
              "      <th></th>\n",
              "      <th>id</th>\n",
              "      <th>news_url</th>\n",
              "      <th>title</th>\n",
              "      <th>tweet_ids</th>\n",
              "      <th>label</th>\n",
              "    </tr>\n",
              "  </thead>\n",
              "  <tbody>\n",
              "    <tr>\n",
              "      <th>0</th>\n",
              "      <td>politifact12751</td>\n",
              "      <td>https://www.census.gov/foreign-trade/statistic...</td>\n",
              "      <td>US Trade in Goods</td>\n",
              "      <td>998217739683680256\\t998220389787553792\\t998234...</td>\n",
              "      <td>0</td>\n",
              "    </tr>\n",
              "    <tr>\n",
              "      <th>1</th>\n",
              "      <td>politifact14305</td>\n",
              "      <td>http://politicot.com/paul-ryan-22-million-amer...</td>\n",
              "      <td>Paul Ryan: “22 Million Americans Choose To Be ...</td>\n",
              "      <td>NaN</td>\n",
              "      <td>1</td>\n",
              "    </tr>\n",
              "    <tr>\n",
              "      <th>2</th>\n",
              "      <td>politifact14306</td>\n",
              "      <td>https://web.archive.org/web/20170806200608/htt...</td>\n",
              "      <td>Obama Goes To G20 Summit</td>\n",
              "      <td>1436642283\\t1436642464\\t1436643954\\t1437071990...</td>\n",
              "      <td>1</td>\n",
              "    </tr>\n",
              "    <tr>\n",
              "      <th>3</th>\n",
              "      <td>politifact4372</td>\n",
              "      <td>http://www.pbs.org/wnet/need-to-know/economy/t...</td>\n",
              "      <td>This Labor Day, we need protests</td>\n",
              "      <td>NaN</td>\n",
              "      <td>0</td>\n",
              "    </tr>\n",
              "    <tr>\n",
              "      <th>4</th>\n",
              "      <td>politifact15224</td>\n",
              "      <td>https://www.viraltruthwire.com/obama-secretly-...</td>\n",
              "      <td>Obama Secretly Flees US – Leaves Stunning Evid...</td>\n",
              "      <td>977934019273699328\\t978722696711335942\\t979262...</td>\n",
              "      <td>1</td>\n",
              "    </tr>\n",
              "  </tbody>\n",
              "</table>\n",
              "</div>\n",
              "    <div class=\"colab-df-buttons\">\n",
              "\n",
              "  <div class=\"colab-df-container\">\n",
              "    <button class=\"colab-df-convert\" onclick=\"convertToInteractive('df-5c351f30-89b8-4edf-b495-c733bb9f0b34')\"\n",
              "            title=\"Convert this dataframe to an interactive table.\"\n",
              "            style=\"display:none;\">\n",
              "\n",
              "  <svg xmlns=\"http://www.w3.org/2000/svg\" height=\"24px\" viewBox=\"0 -960 960 960\">\n",
              "    <path d=\"M120-120v-720h720v720H120Zm60-500h600v-160H180v160Zm220 220h160v-160H400v160Zm0 220h160v-160H400v160ZM180-400h160v-160H180v160Zm440 0h160v-160H620v160ZM180-180h160v-160H180v160Zm440 0h160v-160H620v160Z\"/>\n",
              "  </svg>\n",
              "    </button>\n",
              "\n",
              "  <style>\n",
              "    .colab-df-container {\n",
              "      display:flex;\n",
              "      gap: 12px;\n",
              "    }\n",
              "\n",
              "    .colab-df-convert {\n",
              "      background-color: #E8F0FE;\n",
              "      border: none;\n",
              "      border-radius: 50%;\n",
              "      cursor: pointer;\n",
              "      display: none;\n",
              "      fill: #1967D2;\n",
              "      height: 32px;\n",
              "      padding: 0 0 0 0;\n",
              "      width: 32px;\n",
              "    }\n",
              "\n",
              "    .colab-df-convert:hover {\n",
              "      background-color: #E2EBFA;\n",
              "      box-shadow: 0px 1px 2px rgba(60, 64, 67, 0.3), 0px 1px 3px 1px rgba(60, 64, 67, 0.15);\n",
              "      fill: #174EA6;\n",
              "    }\n",
              "\n",
              "    .colab-df-buttons div {\n",
              "      margin-bottom: 4px;\n",
              "    }\n",
              "\n",
              "    [theme=dark] .colab-df-convert {\n",
              "      background-color: #3B4455;\n",
              "      fill: #D2E3FC;\n",
              "    }\n",
              "\n",
              "    [theme=dark] .colab-df-convert:hover {\n",
              "      background-color: #434B5C;\n",
              "      box-shadow: 0px 1px 3px 1px rgba(0, 0, 0, 0.15);\n",
              "      filter: drop-shadow(0px 1px 2px rgba(0, 0, 0, 0.3));\n",
              "      fill: #FFFFFF;\n",
              "    }\n",
              "  </style>\n",
              "\n",
              "    <script>\n",
              "      const buttonEl =\n",
              "        document.querySelector('#df-5c351f30-89b8-4edf-b495-c733bb9f0b34 button.colab-df-convert');\n",
              "      buttonEl.style.display =\n",
              "        google.colab.kernel.accessAllowed ? 'block' : 'none';\n",
              "\n",
              "      async function convertToInteractive(key) {\n",
              "        const element = document.querySelector('#df-5c351f30-89b8-4edf-b495-c733bb9f0b34');\n",
              "        const dataTable =\n",
              "          await google.colab.kernel.invokeFunction('convertToInteractive',\n",
              "                                                    [key], {});\n",
              "        if (!dataTable) return;\n",
              "\n",
              "        const docLinkHtml = 'Like what you see? Visit the ' +\n",
              "          '<a target=\"_blank\" href=https://colab.research.google.com/notebooks/data_table.ipynb>data table notebook</a>'\n",
              "          + ' to learn more about interactive tables.';\n",
              "        element.innerHTML = '';\n",
              "        dataTable['output_type'] = 'display_data';\n",
              "        await google.colab.output.renderOutput(dataTable, element);\n",
              "        const docLink = document.createElement('div');\n",
              "        docLink.innerHTML = docLinkHtml;\n",
              "        element.appendChild(docLink);\n",
              "      }\n",
              "    </script>\n",
              "  </div>\n",
              "\n",
              "\n",
              "<div id=\"df-8e1e33f2-c1a3-4dea-9ad3-7129c7bca9b0\">\n",
              "  <button class=\"colab-df-quickchart\" onclick=\"quickchart('df-8e1e33f2-c1a3-4dea-9ad3-7129c7bca9b0')\"\n",
              "            title=\"Suggest charts\"\n",
              "            style=\"display:none;\">\n",
              "\n",
              "<svg xmlns=\"http://www.w3.org/2000/svg\" height=\"24px\"viewBox=\"0 0 24 24\"\n",
              "     width=\"24px\">\n",
              "    <g>\n",
              "        <path d=\"M19 3H5c-1.1 0-2 .9-2 2v14c0 1.1.9 2 2 2h14c1.1 0 2-.9 2-2V5c0-1.1-.9-2-2-2zM9 17H7v-7h2v7zm4 0h-2V7h2v10zm4 0h-2v-4h2v4z\"/>\n",
              "    </g>\n",
              "</svg>\n",
              "  </button>\n",
              "\n",
              "<style>\n",
              "  .colab-df-quickchart {\n",
              "      --bg-color: #E8F0FE;\n",
              "      --fill-color: #1967D2;\n",
              "      --hover-bg-color: #E2EBFA;\n",
              "      --hover-fill-color: #174EA6;\n",
              "      --disabled-fill-color: #AAA;\n",
              "      --disabled-bg-color: #DDD;\n",
              "  }\n",
              "\n",
              "  [theme=dark] .colab-df-quickchart {\n",
              "      --bg-color: #3B4455;\n",
              "      --fill-color: #D2E3FC;\n",
              "      --hover-bg-color: #434B5C;\n",
              "      --hover-fill-color: #FFFFFF;\n",
              "      --disabled-bg-color: #3B4455;\n",
              "      --disabled-fill-color: #666;\n",
              "  }\n",
              "\n",
              "  .colab-df-quickchart {\n",
              "    background-color: var(--bg-color);\n",
              "    border: none;\n",
              "    border-radius: 50%;\n",
              "    cursor: pointer;\n",
              "    display: none;\n",
              "    fill: var(--fill-color);\n",
              "    height: 32px;\n",
              "    padding: 0;\n",
              "    width: 32px;\n",
              "  }\n",
              "\n",
              "  .colab-df-quickchart:hover {\n",
              "    background-color: var(--hover-bg-color);\n",
              "    box-shadow: 0 1px 2px rgba(60, 64, 67, 0.3), 0 1px 3px 1px rgba(60, 64, 67, 0.15);\n",
              "    fill: var(--button-hover-fill-color);\n",
              "  }\n",
              "\n",
              "  .colab-df-quickchart-complete:disabled,\n",
              "  .colab-df-quickchart-complete:disabled:hover {\n",
              "    background-color: var(--disabled-bg-color);\n",
              "    fill: var(--disabled-fill-color);\n",
              "    box-shadow: none;\n",
              "  }\n",
              "\n",
              "  .colab-df-spinner {\n",
              "    border: 2px solid var(--fill-color);\n",
              "    border-color: transparent;\n",
              "    border-bottom-color: var(--fill-color);\n",
              "    animation:\n",
              "      spin 1s steps(1) infinite;\n",
              "  }\n",
              "\n",
              "  @keyframes spin {\n",
              "    0% {\n",
              "      border-color: transparent;\n",
              "      border-bottom-color: var(--fill-color);\n",
              "      border-left-color: var(--fill-color);\n",
              "    }\n",
              "    20% {\n",
              "      border-color: transparent;\n",
              "      border-left-color: var(--fill-color);\n",
              "      border-top-color: var(--fill-color);\n",
              "    }\n",
              "    30% {\n",
              "      border-color: transparent;\n",
              "      border-left-color: var(--fill-color);\n",
              "      border-top-color: var(--fill-color);\n",
              "      border-right-color: var(--fill-color);\n",
              "    }\n",
              "    40% {\n",
              "      border-color: transparent;\n",
              "      border-right-color: var(--fill-color);\n",
              "      border-top-color: var(--fill-color);\n",
              "    }\n",
              "    60% {\n",
              "      border-color: transparent;\n",
              "      border-right-color: var(--fill-color);\n",
              "    }\n",
              "    80% {\n",
              "      border-color: transparent;\n",
              "      border-right-color: var(--fill-color);\n",
              "      border-bottom-color: var(--fill-color);\n",
              "    }\n",
              "    90% {\n",
              "      border-color: transparent;\n",
              "      border-bottom-color: var(--fill-color);\n",
              "    }\n",
              "  }\n",
              "</style>\n",
              "\n",
              "  <script>\n",
              "    async function quickchart(key) {\n",
              "      const quickchartButtonEl =\n",
              "        document.querySelector('#' + key + ' button');\n",
              "      quickchartButtonEl.disabled = true;  // To prevent multiple clicks.\n",
              "      quickchartButtonEl.classList.add('colab-df-spinner');\n",
              "      try {\n",
              "        const charts = await google.colab.kernel.invokeFunction(\n",
              "            'suggestCharts', [key], {});\n",
              "      } catch (error) {\n",
              "        console.error('Error during call to suggestCharts:', error);\n",
              "      }\n",
              "      quickchartButtonEl.classList.remove('colab-df-spinner');\n",
              "      quickchartButtonEl.classList.add('colab-df-quickchart-complete');\n",
              "    }\n",
              "    (() => {\n",
              "      let quickchartButtonEl =\n",
              "        document.querySelector('#df-8e1e33f2-c1a3-4dea-9ad3-7129c7bca9b0 button');\n",
              "      quickchartButtonEl.style.display =\n",
              "        google.colab.kernel.accessAllowed ? 'block' : 'none';\n",
              "    })();\n",
              "  </script>\n",
              "</div>\n",
              "    </div>\n",
              "  </div>\n"
            ]
          },
          "metadata": {},
          "execution_count": 1
        }
      ]
    },
    {
      "cell_type": "code",
      "source": [
        "# Verificar informações sobre os dados\n",
        "data.info()"
      ],
      "metadata": {
        "colab": {
          "base_uri": "https://localhost:8080/"
        },
        "id": "DJ9THE0K__oQ",
        "outputId": "a70bb7e7-1d85-497b-b51e-da4d717297d3"
      },
      "execution_count": 2,
      "outputs": [
        {
          "output_type": "stream",
          "name": "stdout",
          "text": [
            "<class 'pandas.core.frame.DataFrame'>\n",
            "RangeIndex: 1056 entries, 0 to 1055\n",
            "Data columns (total 5 columns):\n",
            " #   Column     Non-Null Count  Dtype \n",
            "---  ------     --------------  ----- \n",
            " 0   id         1056 non-null   object\n",
            " 1   news_url   995 non-null    object\n",
            " 2   title      1056 non-null   object\n",
            " 3   tweet_ids  801 non-null    object\n",
            " 4   label      1056 non-null   int64 \n",
            "dtypes: int64(1), object(4)\n",
            "memory usage: 41.4+ KB\n"
          ]
        }
      ]
    },
    {
      "cell_type": "code",
      "source": [
        "import nltk\n",
        "from nltk.corpus import stopwords # Importa a lista de stopwords da biblioteca NLTK\n",
        "from nltk.tokenize import word_tokenize # Importa a função word_tokenize do NLTK\n",
        "import string\n",
        "\n",
        "nltk.download('stopwords')\n",
        "nltk.download('punkt') # Um modelo para dividir um texto em tokens (como palavras ou frases)"
      ],
      "metadata": {
        "colab": {
          "base_uri": "https://localhost:8080/"
        },
        "id": "XjUFu9Xe9Sye",
        "outputId": "b0ef3529-e02d-4431-8826-e1cbfbd6e733"
      },
      "execution_count": 3,
      "outputs": [
        {
          "output_type": "stream",
          "name": "stderr",
          "text": [
            "[nltk_data] Downloading package stopwords to /root/nltk_data...\n",
            "[nltk_data]   Package stopwords is already up-to-date!\n",
            "[nltk_data] Downloading package punkt to /root/nltk_data...\n",
            "[nltk_data]   Package punkt is already up-to-date!\n"
          ]
        },
        {
          "output_type": "execute_result",
          "data": {
            "text/plain": [
              "True"
            ]
          },
          "metadata": {},
          "execution_count": 3
        }
      ]
    },
    {
      "cell_type": "code",
      "source": [
        "# Função para pré-processar o texto\n",
        "def preprocess_text(text):\n",
        "    # Tokenização\n",
        "    tokens = word_tokenize(text.lower())  # Converte para minúsculas e tokeniza\n",
        "\n",
        "    # Remoção de stopwords e pontuações\n",
        "    stop_words = set(stopwords.words('english')) # Usa-se 'english', uma vez que a base de dados é americana\n",
        "    tokens = [token for token in tokens if token not in stop_words and token not in string.punctuation]\n",
        "\n",
        "    # Reconstruir o texto após o pré-processamento\n",
        "    processed_text = ' '.join(tokens)\n",
        "    return processed_text\n",
        "\n",
        "# Aplicar pré-processamento ao DataFrame\n",
        "data['processed_text'] = data['title'].apply(preprocess_text)\n",
        "\n",
        "# Visualizar os primeiros textos processados\n",
        "data['processed_text'].head()"
      ],
      "metadata": {
        "colab": {
          "base_uri": "https://localhost:8080/"
        },
        "id": "6FTtQoLy6Wqa",
        "outputId": "e7e973e4-6346-485a-965f-1a7160680fe2"
      },
      "execution_count": 4,
      "outputs": [
        {
          "output_type": "execute_result",
          "data": {
            "text/plain": [
              "0                                       us trade goods\n",
              "1    paul ryan “ 22 million americans choose poor ’...\n",
              "2                                obama goes g20 summit\n",
              "3                              labor day need protests\n",
              "4    obama secretly flees us – leaves stunning evid...\n",
              "Name: processed_text, dtype: object"
            ]
          },
          "metadata": {},
          "execution_count": 4
        }
      ]
    },
    {
      "cell_type": "code",
      "source": [
        "# Exibir uma amostra dos dados\n",
        "sample_data = data.sample(n=10, random_state=42)  # Mostrar 10 entradas aleatórias\n",
        "print(sample_data[['processed_text', 'label']])"
      ],
      "metadata": {
        "colab": {
          "base_uri": "https://localhost:8080/"
        },
        "id": "DjbdnM9B7dmk",
        "outputId": "20a1ddbd-ad24-4695-e02d-621b1333993d"
      },
      "execution_count": 5,
      "outputs": [
        {
          "output_type": "stream",
          "name": "stdout",
          "text": [
            "                                         processed_text  label\n",
            "260   kasich “ woman intelligent enough keep legs cl...      1\n",
            "832        fed fight save america washington rick perry      0\n",
            "846                             poverty 2005 highlights      0\n",
            "1007  nra president jim porter falsely accused sayin...      1\n",
            "88             video special preview jersey shore miami      0\n",
            "457   busted obama holding secret meetings overtake ...      1\n",
            "184   ohio student suspended staying class national ...      1\n",
            "988   un refugee agency welcomes arrival 10,000th sy...      0\n",
            "367   trump ’ top scientist pick “ scientists dumb r...      1\n",
            "558                       breaking laura ingraham fired      1\n"
          ]
        }
      ]
    },
    {
      "cell_type": "markdown",
      "source": [
        "### **2. Separação dos Dados em Treinamento e Teste:**"
      ],
      "metadata": {
        "id": "rs4eqYs4DwN5"
      }
    },
    {
      "cell_type": "code",
      "source": [
        "from sklearn.model_selection import train_test_split\n",
        "from sklearn.feature_extraction.text import TfidfVectorizer\n",
        "from sklearn.neural_network import MLPClassifier\n",
        "from sklearn.metrics import accuracy_score, classification_report, confusion_matrix\n",
        "\n",
        "# Separar os dados em treino e teste\n",
        "X = data['processed_text']\n",
        "y = data['label']\n",
        "X_train, X_test, y_train, y_test = train_test_split(X, y, test_size=0.2, random_state=42)\n",
        "\n",
        "# Vetorização dos textos usando TF-IDF\n",
        "vectorizer = TfidfVectorizer()\n",
        "X_train_tfidf = vectorizer.fit_transform(X_train)\n",
        "X_test_tfidf = vectorizer.transform(X_test)"
      ],
      "metadata": {
        "id": "dmS_-Ddr65o0"
      },
      "execution_count": 6,
      "outputs": []
    },
    {
      "cell_type": "markdown",
      "source": [
        "### **3. Criação do Modelo de Classificação (MLP) e Visualização dos Resultados:**"
      ],
      "metadata": {
        "id": "TZXF57k4EH8W"
      }
    },
    {
      "cell_type": "code",
      "source": [
        "import warnings\n",
        "from sklearn.exceptions import ConvergenceWarning # Para remover a mensagem de aviso de não convergência\n",
        "\n",
        "# Desativar os warnings de convergência temporariamente\n",
        "warnings.filterwarnings(\"ignore\", category=ConvergenceWarning)\n",
        "\n",
        "# Criar e treinar o modelo MLP\n",
        "mlp = MLPClassifier(hidden_layer_sizes=(32, 16), max_iter=100, random_state=42)\n",
        "mlp.fit(X_train_tfidf, y_train)\n",
        "\n",
        "# Fazer previsões\n",
        "predictions1 = mlp.predict(X_test_tfidf)\n",
        "\n",
        "# Avaliar o modelo\n",
        "accuracy = accuracy_score(y_test, predictions1)\n",
        "print(f'Acurácia do modelo: {accuracy:.2f}\\n')\n",
        "\n",
        "print('Relatório de Classificação:')\n",
        "print(classification_report(y_test, predictions1))"
      ],
      "metadata": {
        "colab": {
          "base_uri": "https://localhost:8080/"
        },
        "id": "_oV0sRD7EHEj",
        "outputId": "4bd221c9-f1c3-4657-9bc9-5c184b10e3b2"
      },
      "execution_count": 7,
      "outputs": [
        {
          "output_type": "stream",
          "name": "stdout",
          "text": [
            "Acurácia do modelo: 0.82\n",
            "\n",
            "Relatório de Classificação:\n",
            "              precision    recall  f1-score   support\n",
            "\n",
            "           0       0.84      0.85      0.85       124\n",
            "           1       0.79      0.77      0.78        88\n",
            "\n",
            "    accuracy                           0.82       212\n",
            "   macro avg       0.82      0.81      0.81       212\n",
            "weighted avg       0.82      0.82      0.82       212\n",
            "\n"
          ]
        }
      ]
    },
    {
      "cell_type": "code",
      "source": [
        "import matplotlib.pyplot as plt\n",
        "import seaborn as sns\n",
        "\n",
        "# Criação e visualização da matriz confusão\n",
        "rotulos = ['verdadeiras', 'falsas']\n",
        "cm1 = confusion_matrix(y_test, predictions1)\n",
        "\n",
        "plt.figure(figsize=(8, 6))\n",
        "sns.heatmap(cm1, annot=True, fmt='d', cmap='Blues', annot_kws={\"size\": 14}, xticklabels=rotulos, yticklabels=rotulos)\n",
        "plt.xlabel('Previsões')\n",
        "plt.ylabel('Valores Verdadeiros')\n",
        "plt.title('Matriz de Confusão')\n",
        "plt.show()"
      ],
      "metadata": {
        "colab": {
          "base_uri": "https://localhost:8080/",
          "height": 564
        },
        "id": "luXYS50ACg5E",
        "outputId": "bdd6516d-eee9-45d7-c932-e10741a2b8d7"
      },
      "execution_count": 8,
      "outputs": [
        {
          "output_type": "display_data",
          "data": {
            "text/plain": [
              "<Figure size 800x600 with 2 Axes>"
            ],
            "image/png": "[encoded data removed]"
          },
          "metadata": {}
        }
      ]
    },
    {
      "cell_type": "markdown",
      "source": [
        "### **4. Criação do Modelo de Classificação (Regressão Logística) e Visualização dos Resultados:**"
      ],
      "metadata": {
        "id": "lKXA0m9wJOyZ"
      }
    },
    {
      "cell_type": "code",
      "source": [
        "from sklearn.linear_model import LogisticRegression\n",
        "\n",
        "# Criar o classificador de Regressão Logística -> \"max_iter=10000\" representa o número de iterações na tentativa de encontrar uma solução aceitável.\n",
        "clf = LogisticRegression(max_iter=10000)\n",
        "\n",
        "# Treinar o modelo.\n",
        "clf.fit(X_train_tfidf, y_train)\n",
        "\n",
        "# Fazer previsões no conjunto de teste.\n",
        "predictions2 = clf.predict(X_test_tfidf)\n",
        "\n",
        "# Calcular e exibir a acurácia.\n",
        "accuracy = accuracy_score(y_test, predictions2)\n",
        "print(f'Acurácia da regressão logística: {accuracy:.2f}')"
      ],
      "metadata": {
        "colab": {
          "base_uri": "https://localhost:8080/"
        },
        "id": "HX-8-FJjJbO8",
        "outputId": "f2cb4587-7278-4a58-dc1a-d17158b515f2"
      },
      "execution_count": 9,
      "outputs": [
        {
          "output_type": "stream",
          "name": "stdout",
          "text": [
            "Acurácia da regressão logística: 0.76\n"
          ]
        }
      ]
    },
    {
      "cell_type": "code",
      "source": [
        "# Criação e visualização da matriz confusão\n",
        "rotulos = ['verdadeiras', 'falsas']\n",
        "cm2 = confusion_matrix(y_test, predictions2)\n",
        "\n",
        "plt.figure(figsize=(8, 6))\n",
        "sns.heatmap(cm2, annot=True, fmt='d', cmap='Blues', annot_kws={\"size\": 14}, xticklabels=rotulos, yticklabels=rotulos)\n",
        "plt.xlabel('Previsões')\n",
        "plt.ylabel('Valores Verdadeiros')\n",
        "plt.title('Matriz de Confusão')\n",
        "plt.show()"
      ],
      "metadata": {
        "colab": {
          "base_uri": "https://localhost:8080/",
          "height": 564
        },
        "id": "cnDvMPZYKWsM",
        "outputId": "e092e225-6f75-4d20-81cd-71814431be8a"
      },
      "execution_count": 10,
      "outputs": [
        {
          "output_type": "display_data",
          "data": {
            "text/plain": [
              "<Figure size 800x600 with 2 Axes>"
            ],
            "image/png": "[encoded data removed]"
          },
          "metadata": {}
        }
      ]
    }
  ]
}