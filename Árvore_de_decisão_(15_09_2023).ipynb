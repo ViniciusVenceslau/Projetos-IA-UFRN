{
  "nbformat": 4,
  "nbformat_minor": 0,
  "metadata": {
    "colab": {
      "provenance": []
    },
    "kernelspec": {
      "name": "python3",
      "display_name": "Python 3"
    },
    "language_info": {
      "name": "python"
    }
  },
  "cells": [
    {
      "cell_type": "markdown",
      "source": [
        "##**Atividade 3** - Rodar os algoritmos de árvore de decisão para as bases de dados **Wine** e **Heart Disease Dataset**\n",
        "\n",
        "**Aluno:** Vinícius Venceslau Venancio da Penha\n",
        "\n",
        "**Turma: ELE0606** - Tópicos Especiais em IA"
      ],
      "metadata": {
        "id": "nq8mCkYiR0Vn"
      }
    },
    {
      "cell_type": "code",
      "execution_count": null,
      "metadata": {
        "id": "BCK4hR5MRp1e",
        "colab": {
          "base_uri": "https://localhost:8080/"
        },
        "outputId": "1f515eb6-78cf-445c-993a-d9ca7cc56b67"
      },
      "outputs": [
        {
          "output_type": "stream",
          "name": "stdout",
          "text": [
            "Acurácia: 0.9444\n",
            "\n",
            "Matriz de Confusão:\n",
            "\n",
            "[[22  2  0]\n",
            " [ 1 30  0]\n",
            " [ 0  1 16]]\n",
            "\n",
            "\n",
            "Relatório de Classificação:\n",
            "\n",
            "              precision    recall  f1-score   support\n",
            "\n",
            "     class_0       0.96      0.92      0.94        24\n",
            "     class_1       0.91      0.97      0.94        31\n",
            "     class_2       1.00      0.94      0.97        17\n",
            "\n",
            "    accuracy                           0.94        72\n",
            "   macro avg       0.96      0.94      0.95        72\n",
            "weighted avg       0.95      0.94      0.94        72\n",
            "\n"
          ]
        }
      ],
      "source": [
        "#Importações de bibliotecas:\n",
        "import numpy as np\n",
        "import pandas as pd\n",
        "from sklearn.datasets import load_wine\n",
        "from sklearn.model_selection import train_test_split\n",
        "from sklearn.tree import DecisionTreeClassifier\n",
        "from sklearn.metrics import accuracy_score, classification_report, confusion_matrix\n",
        "\n",
        "#Carregamento da base de dados WINE:\n",
        "banco_de_dados = load_wine()\n",
        "wine_df = pd.DataFrame(banco_de_dados.data, columns=banco_de_dados.feature_names)\n",
        "\n",
        "#Adição da coluna 'classe' ao DataFrame:\n",
        "wine_df['classe'] = banco_de_dados['target']\n",
        "\n",
        "#Armazenamento dos rótulos de classe em uma variável:\n",
        "wine_classe = wine_df['classe']\n",
        "\n",
        "#Remoção da coluna 'classe' do DataFrame, porque ela representa a variável de resposta ou saída do sistema e não deve ser usada como atributo de entrada para o modelo.\n",
        "wine_df.drop(['classe'], axis=1, inplace=True)\n",
        "\n",
        "#Divisão dos dados em conjuntos de treinamento e teste:\n",
        "X_train, X_test, y_train, y_test = train_test_split(wine_df, wine_classe, test_size=0.4, random_state=13)\n",
        "\n",
        "#Criação do modelo de árvore de decisão:\n",
        "arvore_de_decisao = DecisionTreeClassifier(random_state=13)\n",
        "\n",
        "#Treinamento do modelo:\n",
        "arvore_de_decisao.fit(X_train, y_train)\n",
        "\n",
        "#Previsões com o modelo treinado:\n",
        "y_previsao = arvore_de_decisao.predict(X_test)\n",
        "\n",
        "#Avaliação do desempenho do modelo:\n",
        "accuracy = accuracy_score(y_test, y_previsao)\n",
        "conf_matrix = confusion_matrix(y_test, y_previsao)\n",
        "class_report = classification_report(y_test, y_previsao, target_names=banco_de_dados.target_names)\n",
        "\n",
        "#Impressão dos resultados:\n",
        "print(f'Acurácia: {accuracy:.4f}\\n')\n",
        "print('Matriz de Confusão:\\n')\n",
        "print(conf_matrix)\n",
        "print('\\n')\n",
        "print('Relatório de Classificação:\\n')\n",
        "print(class_report)"
      ]
    },
    {
      "cell_type": "markdown",
      "source": [
        "Desenvolver a árvore de decisão para a base de dados **Heart Disease Dataset**:"
      ],
      "metadata": {
        "id": "bGqPDxSWfAqd"
      }
    },
    {
      "cell_type": "code",
      "source": [
        "#Permitir o google colab acessar os arquivos do Drive:\n",
        "from google.colab import drive\n",
        "drive.mount('/content/drive')\n",
        "\n",
        "#Importar bibliotecas:\n",
        "import numpy as np\n",
        "import pandas as pd\n",
        "from sklearn.model_selection import train_test_split\n",
        "from sklearn.tree import DecisionTreeClassifier\n",
        "from sklearn.metrics import accuracy_score, classification_report, confusion_matrix\n",
        "\n",
        "#Carregamento da base de dados de doença cardíaca a partir do Google Drive:\n",
        "caminho_arquivo = \"/content/drive/My Drive/heart.csv\"  #Caminho correto para o arquivo no Google Drive.\n",
        "banco_de_dados = pd.read_csv(caminho_arquivo)\n",
        "\n",
        "#Criar um Dataframe:\n",
        "heart_df = banco_de_dados\n",
        "\n",
        "#Armazenamento dos rótulos de classe em uma variável:\n",
        "heart_classe = heart_df['target']\n",
        "\n",
        "#Remoção da coluna 'target' do DataFrame, porque ela representa a variável de resposta ou saída do sistema e não deve ser usada como atributo de entrada para o modelo.\n",
        "heart_df.drop(['target'], axis=1, inplace=True)\n",
        "\n",
        "#Divisão dos dados em conjuntos de treinamento e teste:\n",
        "X_train, X_test, y_train, y_test = train_test_split(heart_df, heart_classe, test_size=0.4, random_state=13)\n",
        "\n",
        "#Criação do modelo de árvore de decisão:\n",
        "arvore_de_decisao = DecisionTreeClassifier(random_state=13)\n",
        "\n",
        "#Treinamento do modelo:\n",
        "arvore_de_decisao.fit(X_train, y_train)\n",
        "\n",
        "#Previsões com o modelo treinado:\n",
        "y_previsao = arvore_de_decisao.predict(X_test)\n",
        "\n",
        "#Avaliação do desempenho do modelo:\n",
        "accuracy = accuracy_score(y_test, y_previsao)\n",
        "conf_matrix = confusion_matrix(y_test, y_previsao)\n",
        "class_report = classification_report(y_test, y_previsao, target_names=['Classe 0', 'Classe 1'])\n",
        "\n",
        "#Impressão dos resultados:\n",
        "print(f'Acurácia: {accuracy:.4f}\\n')\n",
        "print('Matriz de Confusão:\\n')\n",
        "print(conf_matrix)\n",
        "print('\\n')\n",
        "print('Relatório de Classificação:\\n')\n",
        "print(class_report)"
      ],
      "metadata": {
        "colab": {
          "base_uri": "https://localhost:8080/"
        },
        "id": "Ygi6qFhRfrdl",
        "outputId": "4c47043f-3352-4c62-f9ae-82c397148737"
      },
      "execution_count": null,
      "outputs": [
        {
          "output_type": "stream",
          "name": "stdout",
          "text": [
            "Drive already mounted at /content/drive; to attempt to forcibly remount, call drive.mount(\"/content/drive\", force_remount=True).\n",
            "Acurácia: 0.9707\n",
            "\n",
            "Matriz de Confusão:\n",
            "\n",
            "[[198   9]\n",
            " [  3 200]]\n",
            "\n",
            "\n",
            "Relatório de Classificação:\n",
            "\n",
            "              precision    recall  f1-score   support\n",
            "\n",
            "    Classe 0       0.99      0.96      0.97       207\n",
            "    Classe 1       0.96      0.99      0.97       203\n",
            "\n",
            "    accuracy                           0.97       410\n",
            "   macro avg       0.97      0.97      0.97       410\n",
            "weighted avg       0.97      0.97      0.97       410\n",
            "\n"
          ]
        }
      ]
    },
    {
      "cell_type": "markdown",
      "source": [
        "**Referências:**\n",
        "\n",
        "**A Árvore de Decisão - Algoritmos de Aprendizado de Máquinas**. Disponível em: <https://www.youtube.com/watch?v=aNrdgC0lIZ8&t=2033s>.\n",
        "\n",
        "**PYTHON MACHINE LEARNING (03): Criar e treinar modelo – Árvore de Decisão**. Disponível em: <https://www.youtube.com/watch?v=ba3_UMjhAQc>.\n",
        "\n",
        "LAPP, D. Heart Disease Dataset. Disponível em: <https://www.kaggle.com/datasets/johnsmith88/heart-disease-dataset>."
      ],
      "metadata": {
        "id": "SK9qrONx5SCz"
      }
    }
  ]
}