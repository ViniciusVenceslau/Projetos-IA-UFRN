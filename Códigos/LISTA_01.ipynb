{
  "nbformat": 4,
  "nbformat_minor": 0,
  "metadata": {
    "colab": {
      "provenance": []
    },
    "kernelspec": {
      "name": "python3",
      "display_name": "Python 3"
    },
    "language_info": {
      "name": "python"
    }
  },
  "cells": [
    {
      "cell_type": "markdown",
      "source": [
        "#**ELE0606 - Tópicos Especiais em IA**\n",
        "\n",
        "##Primeira Lista de Exercícios\n",
        "\n",
        "Todos os códigos solicitados estão apresentados abaixo:"
      ],
      "metadata": {
        "id": "FVUChGYSAXi1"
      }
    },
    {
      "cell_type": "markdown",
      "source": [
        "1. Um programa que pede ao usuário seu nome e imprime uma saudação personalizada - utiliza input() para perguntar o nome e print() para saudar o usuário pelo nome."
      ],
      "metadata": {
        "id": "uDs5bfi_TpBF"
      }
    },
    {
      "cell_type": "code",
      "source": [
        "nome = input(\"Insira seu nome: \")\n",
        "print(\"Saudações \" + nome + \", tenha um ótimo dia!\")"
      ],
      "metadata": {
        "id": "UMAfQH0FTsO3"
      },
      "execution_count": null,
      "outputs": []
    },
    {
      "cell_type": "markdown",
      "source": [
        "2. Um programa que faz cálculos matemáticos básicos (+, -, *, /) - utiliza as operações aritméticas do Python para realizar cálculos inseridos pelo usuário."
      ],
      "metadata": {
        "id": "FUepsQSxXEMN"
      }
    },
    {
      "cell_type": "code",
      "source": [
        "print(\"Digite 1 para SOMAR.\")\n",
        "print(\"Digite 2 para SUBTRAIR.\")\n",
        "print(\"Digite 3 para MULTIPLICAR.\")\n",
        "print(\"Digite 4 para DIVIDIR.\\n\")\n",
        "\n",
        "operacao = 0  # Inicializa a variável operacao\n",
        "\n",
        "while operacao not in (1, 2, 3, 4):\n",
        "    operacao = int(input('Informe a operação aritmética escolhida: '))\n",
        "    if operacao not in (1, 2, 3, 4):\n",
        "        print('VALOR INCORRETO, INFORME NOVAMENTE!')\n",
        "\n",
        "num1 = float(input('Digite o valor do primeiro número: '))\n",
        "num2 = float(input('Digite o valor do segundo número: '))\n",
        "\n",
        "if operacao == 1:\n",
        "    soma = num1 + num2\n",
        "    print(\"A soma dos números é:\", soma)\n",
        "elif operacao == 2:\n",
        "    subtracao = num1 - num2\n",
        "    print(\"A subtração dos números é:\", subtracao)\n",
        "elif operacao == 3:\n",
        "    multiplicacao = num1 * num2\n",
        "    print(\"A multiplicação dos números é:\", multiplicacao)\n",
        "elif operacao == 4:\n",
        "    if num2 != 0:\n",
        "        divisao = num1 / num2\n",
        "        print(\"A divisão dos números é:\", divisao)\n",
        "    else:\n",
        "        print(\"Não é possível dividir por zero.\")\n"
      ],
      "metadata": {
        "id": "eIQkFdPcXHvN"
      },
      "execution_count": null,
      "outputs": []
    },
    {
      "cell_type": "markdown",
      "source": [
        "3. Um programa que gera números aleatórios - importa e utiliza a biblioteca random para gerar números aleatórios."
      ],
      "metadata": {
        "id": "_n-9dca5e4la"
      }
    },
    {
      "cell_type": "code",
      "source": [
        "import random as rd\n",
        "\n",
        "num = rd.random()\n",
        "print(num)"
      ],
      "metadata": {
        "id": "jzokDz5Fe7Lo"
      },
      "execution_count": null,
      "outputs": []
    },
    {
      "cell_type": "markdown",
      "source": [
        "4. Um programa que faz a média de uma lista de números - permite que o usuário insira vários números e utilize loop e soma para calcular a média."
      ],
      "metadata": {
        "id": "fCFSAoHegDwU"
      }
    },
    {
      "cell_type": "code",
      "source": [
        "quantidade = int(input(\"Digite a quantidade de elementos que você deseja na lista: \"))\n",
        "\n",
        "minha_lista = []\n",
        "\n",
        "soma = 0\n",
        "\n",
        "for i in range(quantidade):\n",
        "    elemento = float(input(f\"Digite o elemento {i+1}: \"))\n",
        "    minha_lista.append(elemento)\n",
        "    soma = soma + elemento\n",
        "\n",
        "media = soma/quantidade\n",
        "\n",
        "print('\\n')\n",
        "print(\"A lista que você criou:\", minha_lista)\n",
        "print('A soma dos elementos da lista é:', soma)\n",
        "print('A média dos elementos da lista é:', media)\n",
        "\n"
      ],
      "metadata": {
        "id": "btbxbjn_gEze"
      },
      "execution_count": null,
      "outputs": []
    },
    {
      "cell_type": "markdown",
      "source": [
        "5. Um programa que conta a frequência de palavras em um texto - lê um texto, separa em palavras e utiliza um dicionário para contar a frequência."
      ],
      "metadata": {
        "id": "HSrm9MYnjstw"
      }
    },
    {
      "cell_type": "code",
      "source": [
        "texto = input(\"Digite o texto que será analisado: \")\n",
        "\n",
        "textoSeparado = texto.split()\n",
        "print(\"O texto separado por palavras é:\", textoSeparado)\n",
        "print('\\n')\n",
        "\n",
        "dicionario = {}\n",
        "\n",
        "for palavra in textoSeparado:\n",
        "    if palavra not in dicionario:\n",
        "        dicionario[palavra] = 1 #Chave-Valor, ou seja, \"palavra\" : quantidade.\n",
        "    else:\n",
        "        dicionario[palavra] += 1\n",
        "\n",
        "print(\"Dicionário de palavras e suas contagens:\", dicionario)"
      ],
      "metadata": {
        "id": "I0nIGRARjwry"
      },
      "execution_count": null,
      "outputs": []
    },
    {
      "cell_type": "markdown",
      "source": [
        "6. Um programa que verifica se uma palavra é um palíndromo - checa se a string é igual de trás para frente."
      ],
      "metadata": {
        "id": "Gi6VUh-et6Rd"
      }
    },
    {
      "cell_type": "code",
      "source": [
        "palavra = input('Escreva a palavra: ')\n",
        "palindromo = palavra[::-1] #Lê palavra de trás para frente.\n",
        "\n",
        "contagem = 0\n",
        "\n",
        "print(palavra)\n",
        "print(palindromo)\n",
        "print(\"\\n\")\n",
        "\n",
        "if palindromo == palavra:\n",
        "  print('É PALÍNDROMO.')\n",
        "else:\n",
        "  print(\"NÃO É PALÍNDROMO.\")"
      ],
      "metadata": {
        "id": "vbfsaUUst87P"
      },
      "execution_count": null,
      "outputs": []
    },
    {
      "cell_type": "markdown",
      "source": [
        "7. Um programa que adivinha um número aleatório escolhido pelo usuário - gera um número aleatório e permite que o usuário tente acertar."
      ],
      "metadata": {
        "id": "dzWF77NOyLZE"
      }
    },
    {
      "cell_type": "code",
      "source": [
        "import random as rd\n",
        "\n",
        "aleatorio = round(rd.random(), 1)\n",
        "tentativa = float(input(\"Tente acertar o número: \"))\n",
        "\n",
        "while tentativa is not aleatorio:\n",
        "  if 0 < abs(tentativa - aleatorio) <= 0.5:\n",
        "    print(\"Quase lá, tente novamente!\\n\")\n",
        "    tentativa = float(input(\"Tente acertar o número: \"))\n",
        "  elif abs(tentativa - aleatorio) > 0.5:\n",
        "    print(\"Tá longe rapaz, chuta melhor aí.\\n\")\n",
        "    tentativa = float(input(\"Tente acertar o número: \"))\n",
        "  else:\n",
        "    print(\"PARABÉNS! VOCÊ ACERTOU!\\n\")\n",
        "    print(\"O número aleatório era:\", aleatorio)\n",
        "    break"
      ],
      "metadata": {
        "id": "9-A5h0FpyNtw"
      },
      "execution_count": null,
      "outputs": []
    },
    {
      "cell_type": "markdown",
      "source": [
        "8. Importar a base de dados Iris do scikit-learn e exibir em um dataframe usando Pandas - importa pandas e sklearn.datasets, carrega o Iris dataset e cria um dataframe a partir dos dados."
      ],
      "metadata": {
        "id": "vSBDo2tv0Gfa"
      }
    },
    {
      "cell_type": "code",
      "source": [
        "import pandas as pd\n",
        "from sklearn.datasets import load_iris\n",
        "\n",
        "# Carregar o conjunto de dados Iris\n",
        "iris = load_iris()\n",
        "\n",
        "# Criar um DataFrame a partir dos dados\n",
        "dados = iris.data\n",
        "nomeDasColunas = iris.feature_names\n",
        "df = pd.DataFrame(dados, columns=nomeDasColunas)\n",
        "\n",
        "print(df)\n"
      ],
      "metadata": {
        "id": "yNQ7ce9B0Ks1"
      },
      "execution_count": null,
      "outputs": []
    },
    {
      "cell_type": "markdown",
      "source": [
        "9. Abrir a base de dados Wine do scikit-learn e visualizar estatisticamente usando Pandas - importa pandas e sklearn.datasets, carrega o Wine dataset, cria dataframe e utiliza descrição estatística do Pandas."
      ],
      "metadata": {
        "id": "fGEHBplD2tS4"
      }
    },
    {
      "cell_type": "code",
      "source": [
        "import pandas as pd\n",
        "from sklearn.datasets import load_wine\n",
        "\n",
        "# Carregar o conjunto de dados Wine\n",
        "wine = load_wine()\n",
        "\n",
        "# Criar um DataFrame a partir dos dados\n",
        "data = wine.data\n",
        "feature_names = wine.feature_names\n",
        "df = pd.DataFrame(data, columns=feature_names)\n",
        "\n",
        "# Checar o dataframe print(df)\n",
        "\n",
        "# Exibir descrição estatística do DataFrame\n",
        "description = df.describe()\n",
        "print(description)"
      ],
      "metadata": {
        "id": "oKVwOzD12xf5"
      },
      "execution_count": null,
      "outputs": []
    },
    {
      "cell_type": "markdown",
      "source": [
        "10. Como normalizar colunas de dados (em um dataframe do pandas)? Ex., fazer com que todos os valores estejam na faixa 0 a 1?"
      ],
      "metadata": {
        "id": "LVhmJasm37wL"
      }
    },
    {
      "cell_type": "code",
      "source": [
        "import pandas as pd\n",
        "from sklearn.datasets import load_wine\n",
        "from sklearn.preprocessing import MinMaxScaler\n",
        "\n",
        "# Carregar o conjunto de dados Wine\n",
        "wine = load_wine()\n",
        "\n",
        "# Criar um DataFrame a partir dos dados\n",
        "dados = wine.data\n",
        "nomeDasColunas = wine.feature_names\n",
        "df = pd.DataFrame(dados, columns=nomeDasColunas)\n",
        "\n",
        "# Normalizar os dados\n",
        "escala = MinMaxScaler()\n",
        "novoDf = escala.fit_transform(df)\n",
        "\n",
        "# Criar um novo DataFrame normalizado\n",
        "novoDf = pd.DataFrame(novoDf, columns=nomeDasColunas)\n",
        "\n",
        "print(novoDf)\n"
      ],
      "metadata": {
        "id": "wrG6E3xr388M"
      },
      "execution_count": null,
      "outputs": []
    },
    {
      "cell_type": "markdown",
      "source": [
        "11. Como carregar e visualizar dados (ex. da base Wine) em Python usando o Pandas?"
      ],
      "metadata": {
        "id": "YsTdWVWi_Xdb"
      }
    },
    {
      "cell_type": "code",
      "source": [
        "import pandas as pd\n",
        "from sklearn.datasets import load_wine\n",
        "\n",
        "# Carregar o Wine dataset\n",
        "wine_data = load_wine()\n",
        "\n",
        "# Criar um DataFrame com os dados\n",
        "wine_df = pd.DataFrame(data=wine_data.data, columns=wine_data.feature_names)\n",
        "\n",
        "print(wine_df)"
      ],
      "metadata": {
        "id": "tCc36Y1A_Z64"
      },
      "execution_count": null,
      "outputs": []
    },
    {
      "cell_type": "markdown",
      "source": [
        "12. Como criar gráficos simples como scatterplots para visualizar dados (ex. de duas variáveis) no Pandas?"
      ],
      "metadata": {
        "id": "kQMOMbi5BWq_"
      }
    },
    {
      "cell_type": "code",
      "source": [
        "import pandas as pd\n",
        "import matplotlib.pyplot as plt\n",
        "\n",
        "# Crie um DataFrame de exemplo\n",
        "data = {'variavel_x': [1, 2, 3, 4, 5],\n",
        "        'variavel_y': [3, 4, 12, 13, 20]}\n",
        "\n",
        "df = pd.DataFrame(data)\n",
        "\n",
        "# Crie o gráfico de linhas conectando os pontos\n",
        "plt.plot(df['variavel_x'], df['variavel_y'], marker='o')  # 'o' para exibir marcadores nos pontos\n",
        "plt.title('Conexão de Pontos: Variável X vs Variável Y')\n",
        "plt.xlabel('Variável X')\n",
        "plt.ylabel('Variável Y')\n",
        "plt.show()"
      ],
      "metadata": {
        "id": "gMESIQYHBX4j"
      },
      "execution_count": null,
      "outputs": []
    }
  ]
}